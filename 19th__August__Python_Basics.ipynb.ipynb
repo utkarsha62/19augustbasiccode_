{
 "cells": [
  {
   "cell_type": "code",
   "execution_count": 1,
   "id": "0c72ecd3-22bb-4446-9981-624acccbf654",
   "metadata": {},
   "outputs": [],
   "source": [
    "#1. Declare two variables, `x` and `y`, and assign them integer values. Swap the\n",
    "#values of these variables without using any temporary variable."
   ]
  },
  {
   "cell_type": "code",
   "execution_count": 2,
   "id": "a05e1772-f60b-4db0-93be-57bb050df4c7",
   "metadata": {},
   "outputs": [],
   "source": [
    "x=25\n",
    "y=15\n",
    "#swap there value with using arithmetic operation\n",
    "x=x+y"
   ]
  },
  {
   "cell_type": "code",
   "execution_count": 3,
   "id": "4a20088f-f38c-431b-87f2-a57e552cd756",
   "metadata": {},
   "outputs": [
    {
     "data": {
      "text/plain": [
       "40"
      ]
     },
     "execution_count": 3,
     "metadata": {},
     "output_type": "execute_result"
    }
   ],
   "source": [
    "x"
   ]
  },
  {
   "cell_type": "code",
   "execution_count": 4,
   "id": "15582da0-8d2c-4082-a04e-c2909b4feb33",
   "metadata": {},
   "outputs": [],
   "source": [
    "#value of x is 40"
   ]
  },
  {
   "cell_type": "code",
   "execution_count": 5,
   "id": "d57b1565-a40e-46c6-aa25-157ec3f23cbe",
   "metadata": {},
   "outputs": [],
   "source": [
    "y=x-y"
   ]
  },
  {
   "cell_type": "code",
   "execution_count": 6,
   "id": "dd28f32e-cc57-4355-917d-b6c9e7db8bf4",
   "metadata": {},
   "outputs": [
    {
     "data": {
      "text/plain": [
       "25"
      ]
     },
     "execution_count": 6,
     "metadata": {},
     "output_type": "execute_result"
    }
   ],
   "source": [
    "y"
   ]
  },
  {
   "cell_type": "code",
   "execution_count": 7,
   "id": "a833f7dc-77c9-4fcd-8e25-c2a47c9d7918",
   "metadata": {},
   "outputs": [],
   "source": [
    "x=x-y"
   ]
  },
  {
   "cell_type": "code",
   "execution_count": 8,
   "id": "455e0e56-51c7-46f7-b693-b99763d33c3f",
   "metadata": {},
   "outputs": [
    {
     "data": {
      "text/plain": [
       "15"
      ]
     },
     "execution_count": 8,
     "metadata": {},
     "output_type": "execute_result"
    }
   ],
   "source": [
    "x"
   ]
  },
  {
   "cell_type": "code",
   "execution_count": 9,
   "id": "f1be1255-8b9e-4100-8f7d-b5d745412d78",
   "metadata": {},
   "outputs": [],
   "source": [
    "#hear the value of x and y is 25 and 15"
   ]
  },
  {
   "cell_type": "code",
   "execution_count": null,
   "id": "fb03a290-1094-412c-a142-4ca0a20409c5",
   "metadata": {},
   "outputs": [],
   "source": []
  },
  {
   "cell_type": "code",
   "execution_count": 10,
   "id": "86c55dcf-984a-4a0f-91e0-042f386a2dbf",
   "metadata": {},
   "outputs": [],
   "source": [
    "#2. Create a program that calculates the area of a rectangle. Take the length and\n",
    "#width as inputs from the user and store them in variables. Calculate and\n",
    "#display the area."
   ]
  },
  {
   "cell_type": "code",
   "execution_count": 2,
   "id": "9ea182ae-36b8-4404-9023-0d38465197a9",
   "metadata": {},
   "outputs": [
    {
     "name": "stdin",
     "output_type": "stream",
     "text": [
      "enter lenght of rectangle: 3\n",
      "enter width of rectangle 4\n"
     ]
    },
    {
     "name": "stdout",
     "output_type": "stream",
     "text": [
      "area of rectangle:  12\n"
     ]
    }
   ],
   "source": [
    "length= int (input(\"enter lenght of rectangle:\"))\n",
    "width= int (input(\"enter width of rectangle\"))\n",
    "#calculate area of rectangle\n",
    "area=length*width\n",
    "print(\"area of rectangle: \",area)"
   ]
  },
  {
   "cell_type": "code",
   "execution_count": 3,
   "id": "7998f6bd-1b39-4aa7-ad53-bfa15fdf6854",
   "metadata": {},
   "outputs": [],
   "source": [
    "#3. Write a Python program that converts temperatures from Celsius to\n",
    "#Fahrenheit. Take the temperature in Celsius as input, store it in a variable,\n",
    "#convert it to Fahrenheit, and display the result."
   ]
  },
  {
   "cell_type": "code",
   "execution_count": 4,
   "id": "56668dac-2333-45cf-98d6-812f9278df01",
   "metadata": {},
   "outputs": [
    {
     "name": "stdin",
     "output_type": "stream",
     "text": [
      "enter temperature in celsius 56\n"
     ]
    },
    {
     "name": "stdout",
     "output_type": "stream",
     "text": [
      "fehrenheit is 132.8 fahrenheit\n"
     ]
    }
   ],
   "source": [
    "celsius=float(input(\"enter temperature in celsius\"))\n",
    "fahrenheit=((celsius*9/5)+32)\n",
    "print(\"fehrenheit is\",fahrenheit,\"fahrenheit\")"
   ]
  },
  {
   "cell_type": "code",
   "execution_count": 5,
   "id": "2592e09d-25e5-4540-b26b-bab809e178ff",
   "metadata": {},
   "outputs": [],
   "source": [
    "## : String Based Questions\n",
    "\n",
    "#4. Write a program that takes a string as input and checks if it is a palindrome\n",
    "#(reads the same forwards and backwards)."
   ]
  },
  {
   "cell_type": "code",
   "execution_count": 1,
   "id": "7ee13518-1714-4542-a50c-efbfac962d36",
   "metadata": {},
   "outputs": [
    {
     "name": "stdin",
     "output_type": "stream",
     "text": [
      "enter string kjl\n"
     ]
    },
    {
     "name": "stdout",
     "output_type": "stream",
     "text": [
      "the string is not pailidrome\n"
     ]
    }
   ],
   "source": [
    "n=input(\"enter string\")\n",
    "b=n[-1::-1]\n",
    "if(n==b):\n",
    "    print(\"the string is a pailidrome\")\n",
    "else:\n",
    "    print(\"the string is not pailidrome\")"
   ]
  },
  {
   "cell_type": "code",
   "execution_count": 2,
   "id": "a638644c-46fc-498c-8617-30e61a289b4b",
   "metadata": {},
   "outputs": [],
   "source": [
    "#5. Create a program that takes a string as input and removes all the spaces from\n",
    "#it. Print the modified string without spaces."
   ]
  },
  {
   "cell_type": "code",
   "execution_count": null,
   "id": "df2a0dc8-0105-48e5-bc3b-fb991008406b",
   "metadata": {},
   "outputs": [],
   "source": [
    "string1=input(\"enter first string\")\n",
    "string2=input(\"enter second string\")\n",
    "result = string1+string2\n",
    "print(\"ans : \",result)"
   ]
  },
  {
   "cell_type": "code",
   "execution_count": 1,
   "id": "998bcc5f-0254-463c-972b-4126dc8c89d7",
   "metadata": {},
   "outputs": [],
   "source": [
    "\n",
    "# 1. Write a Python program that takes a string as input and prints the length of\n",
    "#the string"
   ]
  },
  {
   "cell_type": "code",
   "execution_count": null,
   "id": "645bb32c-b3eb-4c29-85ed-c9b37fb4658f",
   "metadata": {},
   "outputs": [],
   "source": [
    "string=input(\"enter a string: \")\n",
    "#using len() function\n",
    "print(\"lenght of string: \",len(string))"
   ]
  }
 ],
 "metadata": {
  "kernelspec": {
   "display_name": "Python 3 (ipykernel)",
   "language": "python",
   "name": "python3"
  },
  "language_info": {
   "codemirror_mode": {
    "name": "ipython",
    "version": 3
   },
   "file_extension": ".py",
   "mimetype": "text/x-python",
   "name": "python",
   "nbconvert_exporter": "python",
   "pygments_lexer": "ipython3",
   "version": "3.10.8"
  }
 },
 "nbformat": 4,
 "nbformat_minor": 5
}
